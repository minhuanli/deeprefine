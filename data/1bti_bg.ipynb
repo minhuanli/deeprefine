{
 "cells": [
  {
   "cell_type": "code",
   "execution_count": 1,
   "id": "eb662255-008e-42c8-a268-2500af037a0f",
   "metadata": {
    "execution": {
     "iopub.execute_input": "2023-07-24T21:58:07.944104Z",
     "iopub.status.busy": "2023-07-24T21:58:07.941667Z",
     "iopub.status.idle": "2023-07-24T21:58:23.230595Z",
     "shell.execute_reply": "2023-07-24T21:58:23.229107Z",
     "shell.execute_reply.started": "2023-07-24T21:58:07.944066Z"
    }
   },
   "outputs": [],
   "source": [
    "import deeprefine as dr\n",
    "import torch\n",
    "import numpy as np\n",
    "from openmm import unit\n",
    "import mdtraj as md\n",
    "import matplotlib.pyplot as plt"
   ]
  },
  {
   "cell_type": "markdown",
   "id": "59194b36-e997-4df0-9e20-22a23f6d1355",
   "metadata": {},
   "source": [
    "### Read-in data"
   ]
  },
  {
   "cell_type": "code",
   "execution_count": 2,
   "id": "d21084dc-1eb0-402e-a91a-91679aec39e5",
   "metadata": {
    "execution": {
     "iopub.execute_input": "2023-07-24T21:58:23.245676Z",
     "iopub.status.busy": "2023-07-24T21:58:23.244526Z",
     "iopub.status.idle": "2023-07-24T21:58:23.251479Z",
     "shell.execute_reply": "2023-07-24T21:58:23.250135Z",
     "shell.execute_reply.started": "2023-07-24T21:58:23.245621Z"
    }
   },
   "outputs": [],
   "source": [
    "traj_file = \"./1BTI/1bti_implicit_traj.h5\"\n",
    "pdb_file = \"./1BTI/1bti_fixed.pdb\""
   ]
  },
  {
   "cell_type": "code",
   "execution_count": 3,
   "id": "74965b0c-fa7b-48ba-8ac9-50522d724b8e",
   "metadata": {
    "execution": {
     "iopub.execute_input": "2023-07-24T21:58:23.258205Z",
     "iopub.status.busy": "2023-07-24T21:58:23.257274Z",
     "iopub.status.idle": "2023-07-24T21:58:24.655844Z",
     "shell.execute_reply": "2023-07-24T21:58:24.654345Z",
     "shell.execute_reply.started": "2023-07-24T21:58:23.258161Z"
    }
   },
   "outputs": [],
   "source": [
    "sim_x, top = dr.utils.align_md(traj_file, shuffle=True, ref_pdb=pdb_file)\n",
    "top2, mm_1bti = dr.setup_protein(pdb_file, 300, \n",
    "                                 implicit_solvent=True, \n",
    "                                 platform='CUDA', \n",
    "                                 length_scale=unit.nanometer)"
   ]
  },
  {
   "cell_type": "code",
   "execution_count": 4,
   "id": "352b25a7-d985-436b-adeb-218a9dbf1d29",
   "metadata": {
    "execution": {
     "iopub.execute_input": "2023-07-24T21:58:24.673017Z",
     "iopub.status.busy": "2023-07-24T21:58:24.672354Z",
     "iopub.status.idle": "2023-07-24T21:58:24.698876Z",
     "shell.execute_reply": "2023-07-24T21:58:24.697844Z",
     "shell.execute_reply.started": "2023-07-24T21:58:24.672960Z"
    }
   },
   "outputs": [],
   "source": [
    "assert top == top2"
   ]
  },
  {
   "cell_type": "code",
   "execution_count": 5,
   "id": "5b437064-ae44-443d-803c-e6ddb8875fe5",
   "metadata": {
    "execution": {
     "iopub.execute_input": "2023-07-24T21:58:25.459954Z",
     "iopub.status.busy": "2023-07-24T21:58:25.458603Z",
     "iopub.status.idle": "2023-07-24T21:58:25.467171Z",
     "shell.execute_reply": "2023-07-24T21:58:25.465735Z",
     "shell.execute_reply.started": "2023-07-24T21:58:25.459898Z"
    }
   },
   "outputs": [
    {
     "name": "stdout",
     "output_type": "stream",
     "text": [
      "(4000, 2646)\n",
      "<mdtraj.Topology with 1 chains, 58 residues, 882 atoms, 895 bonds>\n"
     ]
    }
   ],
   "source": [
    "print(sim_x.shape)\n",
    "print(top)"
   ]
  },
  {
   "cell_type": "markdown",
   "id": "92d9672b-22d7-4a6e-992b-fd1ce3a68a13",
   "metadata": {},
   "source": [
    "### Create dataprocessing blocks"
   ]
  },
  {
   "cell_type": "code",
   "execution_count": 6,
   "id": "f4acf9ec-864d-4890-9850-b5bcf694b307",
   "metadata": {
    "execution": {
     "iopub.execute_input": "2023-07-24T21:58:28.020375Z",
     "iopub.status.busy": "2023-07-24T21:58:28.019557Z",
     "iopub.status.idle": "2023-07-24T21:58:28.088581Z",
     "shell.execute_reply": "2023-07-24T21:58:28.087612Z",
     "shell.execute_reply.started": "2023-07-24T21:58:28.020320Z"
    }
   },
   "outputs": [],
   "source": [
    "icconverter = dr.ICConverter(top, vec_angles=True)"
   ]
  },
  {
   "cell_type": "code",
   "execution_count": 7,
   "id": "c7a755d6-9e2e-434c-a60c-2832b52d86d0",
   "metadata": {
    "execution": {
     "iopub.execute_input": "2023-07-24T21:58:28.956987Z",
     "iopub.status.busy": "2023-07-24T21:58:28.956155Z",
     "iopub.status.idle": "2023-07-24T21:58:29.652710Z",
     "shell.execute_reply": "2023-07-24T21:58:29.651711Z",
     "shell.execute_reply.started": "2023-07-24T21:58:28.956934Z"
    }
   },
   "outputs": [],
   "source": [
    "ic0 = icconverter.xyz2ic(dr.assert_tensor(sim_x))"
   ]
  },
  {
   "cell_type": "code",
   "execution_count": 8,
   "id": "8c1356e4-d350-48f6-a694-1aeb4583c18f",
   "metadata": {
    "execution": {
     "iopub.execute_input": "2023-07-24T21:58:31.163850Z",
     "iopub.status.busy": "2023-07-24T21:58:31.163021Z",
     "iopub.status.idle": "2023-07-24T21:58:31.177848Z",
     "shell.execute_reply": "2023-07-24T21:58:31.176375Z",
     "shell.execute_reply.started": "2023-07-24T21:58:31.163781Z"
    }
   },
   "outputs": [],
   "source": [
    "cosangle_idx = np.concatenate([icconverter.cosangle_idxs, icconverter.costorsion_idxs])\n",
    "sinangle_idx = np.concatenate([icconverter.sinangle_idxs, icconverter.sintorsion_idxs])\n",
    "featurefreezer = dr.FeatureFreezer(ic0, bond_idx=icconverter.bond_idxs, \n",
    "                                   cosangle_idx=cosangle_idx, sinangle_idx=sinangle_idx)"
   ]
  },
  {
   "cell_type": "code",
   "execution_count": 9,
   "id": "852b5066-5f51-46da-8022-b29f7745cf5f",
   "metadata": {
    "execution": {
     "iopub.execute_input": "2023-07-24T21:58:31.754047Z",
     "iopub.status.busy": "2023-07-24T21:58:31.753239Z",
     "iopub.status.idle": "2023-07-24T21:58:31.761273Z",
     "shell.execute_reply": "2023-07-24T21:58:31.759732Z",
     "shell.execute_reply.started": "2023-07-24T21:58:31.753993Z"
    }
   },
   "outputs": [],
   "source": [
    "ic1 = featurefreezer.forward(ic0)"
   ]
  },
  {
   "cell_type": "code",
   "execution_count": 11,
   "id": "59b6b1e6-ee72-412d-8282-a5b129bd738b",
   "metadata": {
    "execution": {
     "iopub.execute_input": "2023-07-24T21:59:16.256020Z",
     "iopub.status.busy": "2023-07-24T21:59:16.255182Z",
     "iopub.status.idle": "2023-07-24T21:59:17.023620Z",
     "shell.execute_reply": "2023-07-24T21:59:17.022651Z",
     "shell.execute_reply.started": "2023-07-24T21:59:16.255965Z"
    }
   },
   "outputs": [],
   "source": [
    "# This could send out some warnings when N_samples < 2*N_features\n",
    "whitener = dr.Whitener(X0=ic1, \n",
    "                       dim_cart_signal=icconverter.dim_cart_signal, \n",
    "                       keepdims=-6)"
   ]
  },
  {
   "cell_type": "markdown",
   "id": "98344dfc-ab4e-4c6f-aed2-640d11fd3b00",
   "metadata": {},
   "source": [
    "### Create bg"
   ]
  },
  {
   "cell_type": "code",
   "execution_count": 12,
   "id": "dcd5bdc4-878f-4327-9f54-bef4d2c7782f",
   "metadata": {
    "execution": {
     "iopub.execute_input": "2023-07-24T21:59:27.795328Z",
     "iopub.status.busy": "2023-07-24T21:59:27.794520Z",
     "iopub.status.idle": "2023-07-24T21:59:27.926690Z",
     "shell.execute_reply": "2023-07-24T21:59:27.925621Z",
     "shell.execute_reply.started": "2023-07-24T21:59:27.795274Z"
    }
   },
   "outputs": [],
   "source": [
    "realnvp_args = {\n",
    "    \"n_layers\" : 4,\n",
    "    \"n_hidden\" : [128,256,128],\n",
    "    \"activation\" : torch.relu,\n",
    "    \"activation_scale\" : torch.tanh,\n",
    "    \"init_output_scale\" : 0.01\n",
    "}\n",
    "bg = dr.construct_bg(icconverter, featurefreezer, whitener, \n",
    "                     n_realnvp=8, **realnvp_args, prior='normal')"
   ]
  },
  {
   "cell_type": "code",
   "execution_count": 13,
   "id": "99a3d070-d12a-474a-87d8-f4bc796e9086",
   "metadata": {
    "execution": {
     "iopub.execute_input": "2023-07-24T21:59:29.921690Z",
     "iopub.status.busy": "2023-07-24T21:59:29.920600Z",
     "iopub.status.idle": "2023-07-24T21:59:29.932117Z",
     "shell.execute_reply": "2023-07-24T21:59:29.930618Z",
     "shell.execute_reply.started": "2023-07-24T21:59:29.921635Z"
    }
   },
   "outputs": [
    {
     "name": "stdout",
     "output_type": "stream",
     "text": [
      "ICConverter    :         2646  ->          4062\n",
      "FeatureFreezer :         4062  ->          1938\n",
      "Whitener       :         1938  ->          1932\n",
      "SplitChannels  :         1932  ->    [966, 966]\n",
      "RealNVP        :   [966, 966]  ->    [966, 966]\n",
      "RealNVP        :   [966, 966]  ->    [966, 966]\n",
      "RealNVP        :   [966, 966]  ->    [966, 966]\n",
      "RealNVP        :   [966, 966]  ->    [966, 966]\n",
      "RealNVP        :   [966, 966]  ->    [966, 966]\n",
      "RealNVP        :   [966, 966]  ->    [966, 966]\n",
      "RealNVP        :   [966, 966]  ->    [966, 966]\n",
      "RealNVP        :   [966, 966]  ->    [966, 966]\n",
      "MergeChannels  :   [966, 966]  ->          1932\n",
      "Number of parameters:     10057920\n"
     ]
    }
   ],
   "source": [
    "bg.summarize()"
   ]
  },
  {
   "cell_type": "markdown",
   "id": "ba4b3fd0-9d78-410b-aa01-62b4371e7701",
   "metadata": {},
   "source": [
    "### ML Training"
   ]
  },
  {
   "cell_type": "code",
   "execution_count": 14,
   "id": "37c2f65a-f954-4d96-992a-79776107abe0",
   "metadata": {
    "execution": {
     "iopub.execute_input": "2023-07-24T22:00:06.064715Z",
     "iopub.status.busy": "2023-07-24T22:00:06.063269Z",
     "iopub.status.idle": "2023-07-24T22:00:06.075047Z",
     "shell.execute_reply": "2023-07-24T22:00:06.073591Z",
     "shell.execute_reply.started": "2023-07-24T22:00:06.064660Z"
    }
   },
   "outputs": [],
   "source": [
    "optim = torch.optim.Adam(bg.flow.parameters(), lr=0.001)\n",
    "mltrainer = dr.nn.flow.MLTrainer(bg, optim, iwae=False)"
   ]
  },
  {
   "cell_type": "code",
   "execution_count": 15,
   "id": "e62ffa2e-591f-4f0f-ae26-b88f742770bb",
   "metadata": {
    "execution": {
     "iopub.execute_input": "2023-07-24T22:01:04.348195Z",
     "iopub.status.busy": "2023-07-24T22:01:04.347380Z",
     "iopub.status.idle": "2023-07-24T22:01:04.421095Z",
     "shell.execute_reply": "2023-07-24T22:01:04.419865Z",
     "shell.execute_reply.started": "2023-07-24T22:01:04.348140Z"
    }
   },
   "outputs": [],
   "source": [
    "X0 = torch.tensor(sim_x, dtype=torch.float32)"
   ]
  },
  {
   "cell_type": "code",
   "execution_count": null,
   "id": "33337c30-f6cd-4fc9-946a-bfd05ea3ec9d",
   "metadata": {},
   "outputs": [],
   "source": [
    "batchsize = [128]*2 + [256]*2 + [512]*6 + [1024]*10 + [2048]*20\n",
    "epochs = 2 + 2 + 6 + 10 + 20\n",
    "mltrain_record = mltrainer.train(X0, epochs=epochs, batch_size=batchsize, \n",
    "                                 checkpoint_epoch=4, \n",
    "                                 checkpoint_name=\"xxx/prefix_\")"
   ]
  },
  {
   "cell_type": "markdown",
   "id": "6e0bd0ed-96ab-42bf-8727-e15d4e41e36b",
   "metadata": {},
   "source": [
    "### KL + ML Training"
   ]
  },
  {
   "cell_type": "code",
   "execution_count": null,
   "id": "898d971a-6378-4e16-8e0a-0fc9e89332e4",
   "metadata": {},
   "outputs": [],
   "source": [
    "# Read in a ckpt before\n",
    "bg = dr.load_bg('xxx_xxx.pkl', mm_1bti)"
   ]
  },
  {
   "cell_type": "code",
   "execution_count": null,
   "id": "3c489b33-c3f3-45d4-b99e-97d9214de3c6",
   "metadata": {},
   "outputs": [],
   "source": [
    "optim2 = torch.optim.Adam(bg.flow.parameters(), lr=0.0001)\n",
    "kltrainer = dr.nn.flow.FlexibleTrainer(bg, optim2)"
   ]
  },
  {
   "cell_type": "code",
   "execution_count": null,
   "id": "73707f89-e478-4a9b-9e36-d877078cc91e",
   "metadata": {},
   "outputs": [],
   "source": [
    "epochs_KL     = [  1,   1,   1,   1,   1,   1,  1,  1,  2, 2, 2, 3, 4]\n",
    "high_energies = [1e10,  1e9,  1e8,  1e7,  1e6,  1e5,  1e5,  1e5,  5e4,  5e4,  2e4,  2e4, 2e4]\n",
    "w_KLs         = [1e-12, 1e-6, 1e-5, 1e-4, 1e-3, 1e-3, 5e-3, 1e-3, 5e-3, 5e-2, 0.05, 0.05, 0.05]\n",
    "report = []\n",
    "for s, epochs in enumerate(epochs_KL):\n",
    "    report = kltrainer.train(X0, \n",
    "                             epochs=epochs_KL[s], batchsize_ML=1024, batchsize_KL=1024, \n",
    "                             w_KL=w_KLs[s], Ehigh=high_energies[s], \n",
    "                             record=report, checkpoint_name=f\"xxx/prefix_{s}\")\n",
    "    # Analyze\n",
    "    samples_z = bg.sample_z(nsample=2000, return_energy=False)\n",
    "    samples_x, _ = bg.TzxJ(samples_z)\n",
    "    samples_e = dr.assert_numpy(bg.energy_model.energy(samples_x))\n",
    "    Elevels = list(set(high_energies))\n",
    "    energy_violations = [np.count_nonzero(samples_e > E) for E in Elevels]\n",
    "    print('Energy violations:', flush=True)\n",
    "    for E, V in zip(Elevels, energy_violations):\n",
    "        print(V, '\\t>\\t', E, flush=True)"
   ]
  }
 ],
 "metadata": {
  "kernelspec": {
   "display_name": "Python 3 (ipykernel)",
   "language": "python",
   "name": "python3"
  },
  "language_info": {
   "codemirror_mode": {
    "name": "ipython",
    "version": 3
   },
   "file_extension": ".py",
   "mimetype": "text/x-python",
   "name": "python",
   "nbconvert_exporter": "python",
   "pygments_lexer": "ipython3",
   "version": "3.10.12"
  }
 },
 "nbformat": 4,
 "nbformat_minor": 5
}
